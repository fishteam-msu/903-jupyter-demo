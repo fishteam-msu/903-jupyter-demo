{
 "cells": [
  {
   "cell_type": "markdown",
   "metadata": {},
   "source": [
    "# Python Data Types Tutorial\n",
    "In this notebook, we will do some initial playing around with different types of data in Python and learn a bit about how to use them."
   ]
  },
  {
   "cell_type": "markdown",
   "metadata": {},
   "source": [
    "## Numbers\n",
    "Numbers can be either `int`s (whole numbers) or `float`s (numbers with decimals)."
   ]
  },
  {
   "cell_type": "code",
   "execution_count": 2,
   "metadata": {},
   "outputs": [
    {
     "name": "stdout",
     "output_type": "stream",
     "text": [
      "<class 'int'>\n",
      "<class 'float'>\n"
     ]
    }
   ],
   "source": [
    "num_participants = 25\n",
    "participant_mean_score = 43.7\n",
    "\n",
    "print(type(num_participants))\n",
    "print(type(participant_mean_score))"
   ]
  },
  {
   "cell_type": "markdown",
   "metadata": {},
   "source": [
    "## Strings\n",
    "Strings are textual data that is stored in either single quotes `''` or double quotes `\"\"`. Python has **tons** of powerful built-in tools for strings. We will cover a small number of them today."
   ]
  },
  {
   "cell_type": "code",
   "execution_count": 4,
   "metadata": {},
   "outputs": [],
   "source": [
    "first_name = \"John\"\n",
    "last_name = \"Doe\"\n",
    "survey_resp = \"satisfied\""
   ]
  },
  {
   "cell_type": "markdown",
   "metadata": {},
   "source": [
    "Strings can be added to each other using the `+` sign"
   ]
  },
  {
   "cell_type": "code",
   "execution_count": 6,
   "metadata": {},
   "outputs": [
    {
     "name": "stdout",
     "output_type": "stream",
     "text": [
      "John Doe\n"
     ]
    }
   ],
   "source": [
    "full_name = first_name + \" \" + last_name\n",
    "print(full_name)"
   ]
  },
  {
   "cell_type": "markdown",
   "metadata": {},
   "source": [
    "They can also be combined together in powerful ways using python funcationality called `f-strings`. `f-strings` are a powerful tool in python that allows you to replace contents of a string with contents of a variable, and format the output string in useful ways. To create an `f-string`, simply put the letter f before a string, and put any variables that you would like included in the string in curly braces. Note that the variable in curly braces has to be able to be rendered as a string (so no dataframes, matrices, etc)"
   ]
  },
  {
   "cell_type": "code",
   "execution_count": 8,
   "metadata": {},
   "outputs": [
    {
     "name": "stdout",
     "output_type": "stream",
     "text": [
      "Hello, John Doe! How are you today?\n"
     ]
    }
   ],
   "source": [
    "message = f\"Hello, {full_name}! How are you today?\"  # f-string\n",
    "print(message)"
   ]
  },
  {
   "cell_type": "markdown",
   "metadata": {},
   "source": [
    "## Booleans\n",
    "Booleans represent either a value of `True` or `False`. Let's create a boolean using an `if` statement. We don't have time to cover `if` statements in depth today, but they'll come up a lot in the future."
   ]
  },
  {
   "cell_type": "code",
   "execution_count": 10,
   "metadata": {},
   "outputs": [
    {
     "name": "stdout",
     "output_type": "stream",
     "text": [
      "True\n"
     ]
    }
   ],
   "source": [
    "if survey_resp == \"satisfied\":\n",
    "    satisfied = True\n",
    "else:\n",
    "    satisfied = False\n",
    "\n",
    "print(satisfied)"
   ]
  },
  {
   "cell_type": "markdown",
   "metadata": {},
   "source": [
    "## Lists\n",
    "Ordered, mutable collections of items, enclosed in square brackets `[]`. Items embedded in a list can be accessed by typing the name of the list followed by square brackets, with the item's list position. Note that python lists are \"zero-indexed\", which means that the first item in the list will always correspond with position `0`."
   ]
  },
  {
   "cell_type": "code",
   "execution_count": 25,
   "metadata": {},
   "outputs": [
    {
     "data": {
      "text/plain": [
       "'USA'"
      ]
     },
     "execution_count": 25,
     "metadata": {},
     "output_type": "execute_result"
    }
   ],
   "source": [
    "ages = [22, 35, 27, 45]\n",
    "countries = [\"USA\", \"Canada\", \"Germany\"]\n",
    "countries[0]"
   ]
  },
  {
   "cell_type": "markdown",
   "metadata": {},
   "source": [
    "### Modifying lists\n",
    "Python has a number of useful tools for modifying lists. We only have time to cover a few of them today."
   ]
  },
  {
   "cell_type": "code",
   "execution_count": 26,
   "metadata": {},
   "outputs": [
    {
     "name": "stdout",
     "output_type": "stream",
     "text": [
      "['USA', 'Canada', 'Germany', 'Australia']\n",
      "['USA', 'Canada', 'Germany', 'Australia', 'France', 'China', 'Mexico']\n",
      "['USA', 'Canada', 'United Kingdom', 'Germany', 'Australia', 'France', 'China', 'Mexico']\n",
      "['USA', 'Canada', 'Germany', 'Australia', 'France', 'China', 'Mexico']\n",
      "['USA', 'Germany', 'Australia', 'France', 'China', 'Mexico']\n"
     ]
    }
   ],
   "source": [
    "# Appending items to a list\n",
    "countries.append(\"Australia\")  # Adds \"Australia\" to the end of the list\n",
    "print(countries)\n",
    "\n",
    "# Concatenating lists\n",
    "new_countries = [\"France\", \"China\", \"Mexico\"]\n",
    "countries.extend(new_countries)\n",
    "print(countries)\n",
    "\n",
    "# Inserting into a list\n",
    "countries.insert(2, \"United Kingdom\")\n",
    "print(countries)\n",
    "\n",
    "# Removing from a list\n",
    "countries.remove(\"United Kingdom\")\n",
    "print(countries)\n",
    "\n",
    "# Return and remove from a list (removes from the list and returns it as output you can use in other operations. If a number isn't provided indicating the item in the list you want to pop, it will return the last item in the list.\n",
    "countries.pop(1) #Output: \"Canada\"\n",
    "print(countries)"
   ]
  },
  {
   "cell_type": "markdown",
   "metadata": {},
   "source": [
    "## Dictionaries\n",
    "Unordered collections of key-value pairs, enclosed in curly braces `{}`. In my opinion, dictionaries are one of the most powerful data types in python (and other languages for that matter). They allow for nested, flexible data structures, and are extremely fast to access and manipulate."
   ]
  },
  {
   "cell_type": "code",
   "execution_count": 27,
   "metadata": {},
   "outputs": [],
   "source": [
    "participant_info = {\n",
    "    \"name\": \"Alice\",\n",
    "    \"age\": 30,\n",
    "    \"country\": \"Canada\",\n",
    "    \"is_student\": True\n",
    "    }"
   ]
  },
  {
   "cell_type": "markdown",
   "metadata": {},
   "source": [
    "Information in a dictionary can be accessed using similar notation as we used for lists, but instead of the position in the list, you enter the \"key\" corresponding to the value you want."
   ]
  },
  {
   "cell_type": "code",
   "execution_count": 28,
   "metadata": {},
   "outputs": [
    {
     "name": "stdout",
     "output_type": "stream",
     "text": [
      "Alice\n"
     ]
    }
   ],
   "source": [
    "participant_name = participant_info[\"name\"]\n",
    "print(participant_name)"
   ]
  },
  {
   "cell_type": "markdown",
   "metadata": {},
   "source": [
    "## Putting it all together"
   ]
  },
  {
   "cell_type": "code",
   "execution_count": 31,
   "metadata": {},
   "outputs": [
    {
     "name": "stdout",
     "output_type": "stream",
     "text": [
      "Participant 101's name is John Doe and they are 28 years old. Their employment status is: employed. They responded that their satisfaction was 4.5 and their ease of use was 3.8\n"
     ]
    }
   ],
   "source": [
    "# Variables and Data Types\n",
    "participant_id = 101\n",
    "name = \"John Doe\"\n",
    "age = 28\n",
    "survey_scores = {\n",
    "    \"satisfaction\": 4.5, \n",
    "    \"ease_of_use\": 3.8\n",
    "    }\n",
    "employment_status = \"employed\"\n",
    "\n",
    "# Printing Variables\n",
    "example_string = f\"Participant {participant_id}'s name is {name} and they are {age} years old. Their employment status is: {employment_status}. They responded that their satisfaction was {survey_scores['satisfaction']} and their ease of use was {survey_scores['ease_of_use']}.\"\n",
    "print(example_string)"
   ]
  },
  {
   "cell_type": "code",
   "execution_count": null,
   "metadata": {},
   "outputs": [],
   "source": []
  }
 ],
 "metadata": {
  "kernelspec": {
   "display_name": "base",
   "language": "python",
   "name": "python3"
  },
  "language_info": {
   "codemirror_mode": {
    "name": "ipython",
    "version": 3
   },
   "file_extension": ".py",
   "mimetype": "text/x-python",
   "name": "python",
   "nbconvert_exporter": "python",
   "pygments_lexer": "ipython3",
   "version": "3.11.9"
  }
 },
 "nbformat": 4,
 "nbformat_minor": 2
}
